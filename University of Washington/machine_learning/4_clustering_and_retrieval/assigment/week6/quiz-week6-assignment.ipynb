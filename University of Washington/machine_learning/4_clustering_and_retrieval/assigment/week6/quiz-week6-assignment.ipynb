{
 "cells": [
  {
   "cell_type": "markdown",
   "metadata": {},
   "source": [
    "# Modeling text data with a hierarchy of clusters"
   ]
  },
  {
   "cell_type": "markdown",
   "metadata": {},
   "source": [
    "# Question 1\n",
    "\n",
    "<img src=\"images/Screen Shot 2016-08-04 at 8.37.55 PM.png\">\n",
    "\n",
    "*Screenshot taken from [Coursera](https://www.coursera.org/learn/ml-clustering-and-retrieval/exam/QBFNf/modeling-text-data-with-a-hierarchy-of-clusters)*\n",
    "\n",
    "<!--TEASER_END-->"
   ]
  },
  {
   "cell_type": "markdown",
   "metadata": {},
   "source": [
    "# Question 2\n",
    "\n",
    "<img src=\"images/Screen Shot 2016-08-04 at 8.38.01 PM.png\">\n",
    "<img src=\"images/Screen Shot 2016-08-04 at 8.38.10 PM.png\">\n",
    "<img src=\"images/Screen Shot 2016-08-04 at 8.38.15 PM.png\">\n",
    "\n",
    "*Screenshot taken from [Coursera](https://www.coursera.org/learn/ml-clustering-and-retrieval/exam/QBFNf/modeling-text-data-with-a-hierarchy-of-clusters)*\n",
    "\n",
    "<!--TEASER_END-->"
   ]
  },
  {
   "cell_type": "markdown",
   "metadata": {},
   "source": [
    "# Question 3\n",
    "\n",
    "<img src=\"images/Screen Shot 2016-08-04 at 8.41.56 PM.png\">\n",
    "<img src=\"images/Screen Shot 2016-08-04 at 8.38.57 PM.png\">\n",
    "<img src=\"images/Screen Shot 2016-08-04 at 8.39.03 PM.png\">\n",
    "<img src=\"images/Screen Shot 2016-08-04 at 8.42.04 PM.png\">\n",
    "\n",
    "*Screenshot taken from [Coursera](https://www.coursera.org/learn/ml-clustering-and-retrieval/exam/QBFNf/modeling-text-data-with-a-hierarchy-of-clusters)*\n",
    "\n",
    "<!--TEASER_END-->"
   ]
  }
 ],
 "metadata": {
  "kernelspec": {
   "display_name": "Python 2",
   "language": "python",
   "name": "python2"
  },
  "language_info": {
   "codemirror_mode": {
    "name": "ipython",
    "version": 2
   },
   "file_extension": ".py",
   "mimetype": "text/x-python",
   "name": "python",
   "nbconvert_exporter": "python",
   "pygments_lexer": "ipython2",
   "version": "2.7.12"
  },
  "toc": {
   "toc_cell": false,
   "toc_number_sections": false,
   "toc_threshold": "8",
   "toc_window_display": false
  }
 },
 "nbformat": 4,
 "nbformat_minor": 0
}
